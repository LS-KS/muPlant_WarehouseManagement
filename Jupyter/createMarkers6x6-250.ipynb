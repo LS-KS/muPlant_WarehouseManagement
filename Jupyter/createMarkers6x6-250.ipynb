{
 "cells": [
  {
   "cell_type": "markdown",
   "id": "3e269a5f-63af-4481-8a39-8c8a3077c530",
   "metadata": {},
   "source": [
    "# Create Markers for muPlant\n",
    "\n",
    "This script is made to create arUco Markers for muPlant facilities. \n"
   ]
  },
  {
   "cell_type": "code",
   "execution_count": 1,
   "id": "8eb1c8d0-31bd-43f3-a632-82a4bdf25117",
   "metadata": {},
   "outputs": [],
   "source": [
    "import numpy as np\n",
    "import matplotlib.pyplot as plt\n",
    "import cv2"
   ]
  },
  {
   "cell_type": "markdown",
   "id": "b11f4403-6ff9-4306-9d08-97b652176ccd",
   "metadata": {},
   "source": [
    "## Numerical ranges for marker ID's at facilities\n",
    "\n",
    "First creating a list numerical range for all muPlant facilities. \n",
    "Check if numercal ranges are overlapping and throw an exception if that's the case. \n",
    "\n",
    "In case everything's fine: Creating a Dictionary with marker titles and marker-ID's"
   ]
  },
  {
   "cell_type": "code",
   "execution_count": 2,
   "id": "0e6f1471-7201-459b-88f8-2880262d4cb3",
   "metadata": {},
   "outputs": [
    {
     "name": "stdout",
     "output_type": "stream",
     "text": [
      "[(0, 0), (1, 1), (5, 44), (45, 64)]\n"
     ]
    }
   ],
   "source": [
    "# ID for shelf corners\n",
    "SHELF_ID = [0]\n",
    "\n",
    "# ID for pallets\n",
    "PALLET_ID = [1]\n",
    "\n",
    "# ID's for cups\n",
    "CUP_IDS = list(range(5,45))\n",
    "\n",
    "# ID's for storage elements\n",
    "STORAGE_IDS = list(range(45,65))\n",
    "\n",
    "#------------------------------------------------------------#\n",
    "ranges = [(min(SHELF_ID),max(SHELF_ID)),(min(PALLET_ID),max(PALLET_ID)),(min(CUP_IDS),max(CUP_IDS)),(min(STORAGE_IDS),max(STORAGE_IDS))]\n",
    "res = False\n",
    "for i in range(len(ranges)-1):\n",
    "    if ranges[i + 1][0] < ranges[i][1] or res : \n",
    "        res = True\n",
    "if res:\n",
    "    raise ValueError(\"Numeric ranges of each list must be seperated from others!\")\n",
    "else:\n",
    "    print(ranges)\n",
    "    ID_dict = {\n",
    "        \"Shelf_Corners\": SHELF_ID,\n",
    "        \"Pallets\": PALLET_ID,\n",
    "        \"Cups\": CUP_IDS,\n",
    "        \"Storage_Elements\": STORAGE_IDS\n",
    "    }"
   ]
  },
  {
   "cell_type": "markdown",
   "id": "881d5483-ae67-4c10-a43c-0bef659445cb",
   "metadata": {},
   "source": [
    "## Create Marker images from dictionaries and save them in marker folder"
   ]
  },
  {
   "cell_type": "code",
   "execution_count": 3,
   "id": "fe125c78-b6bf-4dcf-8471-67f9ef302e12",
   "metadata": {},
   "outputs": [
    {
     "name": "stdout",
     "output_type": "stream",
     "text": [
      "Shelf_Corners [0]\n",
      "Pallets [1]\n",
      "Cups [5, 6, 7, 8, 9, 10, 11, 12, 13, 14, 15, 16, 17, 18, 19, 20, 21, 22, 23, 24, 25, 26, 27, 28, 29, 30, 31, 32, 33, 34, 35, 36, 37, 38, 39, 40, 41, 42, 43, 44]\n",
      "Storage_Elements [45, 46, 47, 48, 49, 50, 51, 52, 53, 54, 55, 56, 57, 58, 59, 60, 61, 62, 63, 64]\n"
     ]
    }
   ],
   "source": [
    "aruco_dict = cv2.aruco.getPredefinedDictionary(cv2.aruco.DICT_6X6_250)\n",
    "img_size = 200\n",
    "for str, ids in ID_dict.items():\n",
    "    print(str, ids)\n",
    "    for id in ids:\n",
    "        marker_img = cv2.aruco.generateImageMarker(aruco_dict, id, img_size)\n",
    "        marker_filename = f\"marker/{str}_{id}.png\"\n",
    "        cv2.imwrite(marker_filename, marker_img)"
   ]
  },
  {
   "cell_type": "code",
   "execution_count": null,
   "id": "f45d27e0-c6dd-41ea-ad15-4801a61da288",
   "metadata": {},
   "outputs": [],
   "source": []
  }
 ],
 "metadata": {
  "kernelspec": {
   "display_name": "Python 3 (ipykernel)",
   "language": "python",
   "name": "python3"
  },
  "language_info": {
   "codemirror_mode": {
    "name": "ipython",
    "version": 3
   },
   "file_extension": ".py",
   "mimetype": "text/x-python",
   "name": "python",
   "nbconvert_exporter": "python",
   "pygments_lexer": "ipython3",
   "version": "3.11.4"
  }
 },
 "nbformat": 4,
 "nbformat_minor": 5
}
